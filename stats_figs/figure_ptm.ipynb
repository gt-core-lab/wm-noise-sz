{
 "cells": [
  {
   "cell_type": "code",
   "execution_count": 1,
   "metadata": {},
   "outputs": [],
   "source": [
    "import pandas as pd\n",
    "import seaborn as sns\n",
    "import matplotlib.pyplot as plt\n",
    "import matplotlib\n",
    "import numpy as np\n",
    "import pingouin as pg\n",
    "matplotlib.rcParams['pdf.fonttype'] = 42\n",
    "matplotlib.rcParams['ps.fonttype'] = 42\n",
    "matplotlib.rcParams['font.family'] = \"Arial\""
   ]
  },
  {
   "cell_type": "code",
   "execution_count": 2,
   "metadata": {},
   "outputs": [],
   "source": [
    "datapath = '../csv/ptm_thresholds.csv'\n",
    "data = pd.read_csv(datapath)"
   ]
  },
  {
   "cell_type": "code",
   "execution_count": 3,
   "metadata": {},
   "outputs": [],
   "source": [
    "# function\n",
    "def predicted_contrast(parameters, Ne, d):\n",
    "    r = parameters[0]\n",
    "    beta = parameters[1]\n",
    "    Na = parameters[2]\n",
    "    Nm = parameters[3]\n",
    "    Am = parameters[4]\n",
    "    Af = parameters[5]\n",
    "    Aa = parameters[6]\n",
    "\n",
    "    x = 1 / (d ** 2) - (Am * Nm) ** 2\n",
    "    if x < 0:\n",
    "        x = 0.01\n",
    "\n",
    "    log_pContrast = 1 / (2 * r) * np.log((1 + (Am * Nm) ** 2) * (Af * Ne) ** (2 * r) + (Aa * Na) ** 2) - \\\n",
    "                    1 / (2 * r) * np.log(x) - np.log(beta)\n",
    "\n",
    "    return log_pContrast"
   ]
  },
  {
   "cell_type": "code",
   "execution_count": 4,
   "metadata": {},
   "outputs": [],
   "source": [
    "# get predictions\n",
    "\n",
    "Ne = np.exp(np.linspace(np.log(0.005), np.log(0.21), 99))\n",
    "Ne = np.insert(Ne, 0, 0)\n",
    "d = np.array([1.089, 1.634])\n",
    "\n",
    "paramsfit1 = np.array([2.6383, 1.0132, 0.0022, 0.6058, 1.0000, 1.0000, 1.0000])\n",
    "paramsfit2 = np.array([2.6383, 1.0132, 0.0022, 0.6058, 1.0000, 1.2038, 1.6140])\n",
    "\n",
    "ypredict11 = np.log10(np.exp(predicted_contrast(paramsfit1, Ne, d[0])) * 100) # CON 70\n",
    "ypredict21 = np.log10(np.exp(predicted_contrast(paramsfit2, Ne, d[0])) * 100) # SCZ 70\n"
   ]
  },
  {
   "cell_type": "code",
   "execution_count": 5,
   "metadata": {},
   "outputs": [
    {
     "data": {
      "image/png": "[encoded data removed]",
      "text/plain": [
       "<Figure size 250x250 with 1 Axes>"
      ]
     },
     "metadata": {},
     "output_type": "display_data"
    }
   ],
   "source": [
    "# plot ptm\n",
    "\n",
    "f = plt.figure()\n",
    "f.set_size_inches(2.5,2.5)\n",
    "colors = ['royalblue', 'indianred']\n",
    "\n",
    "doi = data[data['plevel']==70]\n",
    "\n",
    "sns.pointplot(data=doi, x='noise', y='threshold', hue='group', errorbar=('ci', 68), linestyle='none', palette=colors, \n",
    "              native_scale=True, log_scale=(10, None), err_kws={'linewidth': 1})\n",
    "plt.xlabel('External Noise Levels')\n",
    "plt.ylabel('Contrast Thrshold (log10)', fontsize=10)\n",
    "plt.xticks([0.01, 0.1], ['0.01', '0.1'])\n",
    "plt.legend(title='Group')\n",
    "\n",
    "Ne[0] = 0.005\n",
    "plt.plot(Ne, ypredict11,  color=colors[1])  \n",
    "plt.plot(Ne, ypredict21,  color=colors[0]) \n",
    "\n",
    "sns.despine()\n",
    "\n",
    "plt.savefig('ptm.pdf', dpi=300, transparent=True, bbox_inches=\"tight\")"
   ]
  },
  {
   "cell_type": "code",
   "execution_count": 6,
   "metadata": {},
   "outputs": [
    {
     "data": {
      "text/html": [
       "<div>\n",
       "<style scoped>\n",
       "    .dataframe tbody tr th:only-of-type {\n",
       "        vertical-align: middle;\n",
       "    }\n",
       "\n",
       "    .dataframe tbody tr th {\n",
       "        vertical-align: top;\n",
       "    }\n",
       "\n",
       "    .dataframe thead th {\n",
       "        text-align: right;\n",
       "    }\n",
       "</style>\n",
       "<table border=\"1\" class=\"dataframe\">\n",
       "  <thead>\n",
       "    <tr style=\"text-align: right;\">\n",
       "      <th></th>\n",
       "      <th>Source</th>\n",
       "      <th>SS</th>\n",
       "      <th>DF1</th>\n",
       "      <th>DF2</th>\n",
       "      <th>MS</th>\n",
       "      <th>F</th>\n",
       "      <th>p-unc</th>\n",
       "      <th>p-GG-corr</th>\n",
       "      <th>np2</th>\n",
       "      <th>eps</th>\n",
       "      <th>sphericity</th>\n",
       "      <th>W-spher</th>\n",
       "      <th>p-spher</th>\n",
       "    </tr>\n",
       "  </thead>\n",
       "  <tbody>\n",
       "    <tr>\n",
       "      <th>0</th>\n",
       "      <td>group</td>\n",
       "      <td>0.554787</td>\n",
       "      <td>1</td>\n",
       "      <td>55</td>\n",
       "      <td>0.554787</td>\n",
       "      <td>2.644993</td>\n",
       "      <td>1.095933e-01</td>\n",
       "      <td>NaN</td>\n",
       "      <td>0.045884</td>\n",
       "      <td>NaN</td>\n",
       "      <td>NaN</td>\n",
       "      <td>NaN</td>\n",
       "      <td>NaN</td>\n",
       "    </tr>\n",
       "    <tr>\n",
       "      <th>1</th>\n",
       "      <td>noise</td>\n",
       "      <td>7.104719</td>\n",
       "      <td>7</td>\n",
       "      <td>385</td>\n",
       "      <td>1.014960</td>\n",
       "      <td>37.579959</td>\n",
       "      <td>4.942465e-40</td>\n",
       "      <td>5.872720e-31</td>\n",
       "      <td>0.405919</td>\n",
       "      <td>0.745969</td>\n",
       "      <td>False</td>\n",
       "      <td>0.36665</td>\n",
       "      <td>0.001724</td>\n",
       "    </tr>\n",
       "    <tr>\n",
       "      <th>2</th>\n",
       "      <td>Interaction</td>\n",
       "      <td>0.050900</td>\n",
       "      <td>7</td>\n",
       "      <td>385</td>\n",
       "      <td>0.007271</td>\n",
       "      <td>0.269234</td>\n",
       "      <td>9.655640e-01</td>\n",
       "      <td>NaN</td>\n",
       "      <td>0.004871</td>\n",
       "      <td>NaN</td>\n",
       "      <td>NaN</td>\n",
       "      <td>NaN</td>\n",
       "      <td>NaN</td>\n",
       "    </tr>\n",
       "  </tbody>\n",
       "</table>\n",
       "</div>"
      ],
      "text/plain": [
       "        Source        SS  DF1  DF2        MS          F         p-unc  \\\n",
       "0        group  0.554787    1   55  0.554787   2.644993  1.095933e-01   \n",
       "1        noise  7.104719    7  385  1.014960  37.579959  4.942465e-40   \n",
       "2  Interaction  0.050900    7  385  0.007271   0.269234  9.655640e-01   \n",
       "\n",
       "      p-GG-corr       np2       eps sphericity  W-spher   p-spher  \n",
       "0           NaN  0.045884       NaN        NaN      NaN       NaN  \n",
       "1  5.872720e-31  0.405919  0.745969      False  0.36665  0.001724  \n",
       "2           NaN  0.004871       NaN        NaN      NaN       NaN  "
      ]
     },
     "execution_count": 6,
     "metadata": {},
     "output_type": "execute_result"
    }
   ],
   "source": [
    "pg.mixed_anova(data=doi, dv='threshold', within='noise', subject='sub', between='group', correction='auto')"
   ]
  },
  {
   "cell_type": "code",
   "execution_count": null,
   "metadata": {},
   "outputs": [],
   "source": []
  }
 ],
 "metadata": {
  "kernelspec": {
   "display_name": "Python 3",
   "language": "python",
   "name": "python3"
  },
  "language_info": {
   "codemirror_mode": {
    "name": "ipython",
    "version": 3
   },
   "file_extension": ".py",
   "mimetype": "text/x-python",
   "name": "python",
   "nbconvert_exporter": "python",
   "pygments_lexer": "ipython3",
   "version": "3.11.8"
  }
 },
 "nbformat": 4,
 "nbformat_minor": 2
}
