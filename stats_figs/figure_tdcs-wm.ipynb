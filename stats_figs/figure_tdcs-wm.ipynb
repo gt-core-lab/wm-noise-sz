{
 "cells": [
  {
   "cell_type": "code",
   "execution_count": 1,
   "metadata": {},
   "outputs": [],
   "source": [
    "import pandas as pd\n",
    "import seaborn as sns\n",
    "import matplotlib.pyplot as plt\n",
    "import matplotlib\n",
    "import pingouin as pg\n",
    "matplotlib.rcParams['pdf.fonttype'] = 42\n",
    "matplotlib.rcParams['ps.fonttype'] = 42\n",
    "matplotlib.rcParams['font.family'] = \"Arial\""
   ]
  },
  {
   "cell_type": "code",
   "execution_count": 2,
   "metadata": {},
   "outputs": [],
   "source": [
    "# load\n",
    "datapath = '../csv/tdcs.csv'\n",
    "data = pd.read_csv(datapath)\n",
    "\n",
    "# wm data\n",
    "wm_df = data[['SID','FCZ_Var2','FCZ_Var4','PZ_Var2','PZ_Var4','Sh_Var2','Sh_Var4']]\n",
    "wm_long = pd.wide_to_long(df=wm_df, stubnames=['FCZ', 'PZ', 'Sh'], i='SID', j='setsize',sep='_', suffix=r'\\w+')\n",
    "wm_long = wm_long.reset_index()\n",
    "wm_long = wm_long.melt(id_vars=['SID','setsize'], value_vars=['FCZ','PZ','Sh'], var_name='Loc', value_name='var')"
   ]
  },
  {
   "cell_type": "markdown",
   "metadata": {},
   "source": [
    "# tDCS stimulation and WM variance"
   ]
  },
  {
   "cell_type": "code",
   "execution_count": 3,
   "metadata": {},
   "outputs": [
    {
     "data": {
      "image/png": "[encoded data removed]",
      "text/plain": [
       "<Figure size 200x200 with 1 Axes>"
      ]
     },
     "metadata": {},
     "output_type": "display_data"
    }
   ],
   "source": [
    "# plot\n",
    "f = plt.figure()\n",
    "f.set_size_inches(2, 2)\n",
    "colors = ['darkblue', 'cornflowerblue', 'lightsteelblue']\n",
    "sns.pointplot(data=wm_long, x='setsize', y='var', hue='Loc', errorbar=('ci', 68), dodge=0.1, palette=colors, err_kws={'linewidth': 1})\n",
    "plt.ylabel('WM Variance')\n",
    "plt.xlabel('Set Size')\n",
    "plt.xticks([0, 1], ['2', '4'])\n",
    "sns.despine()\n",
    "\n",
    "plt.savefig('tdcs-wm.pdf', dpi=300, transparent=True, bbox_inches=\"tight\")"
   ]
  },
  {
   "cell_type": "code",
   "execution_count": 4,
   "metadata": {},
   "outputs": [
    {
     "name": "stderr",
     "output_type": "stream",
     "text": [
      "/Users/woonjupark/Documents/code/ptm-wm-sz/env/lib/python3.11/site-packages/pingouin/distribution.py:507: FutureWarning: DataFrame.groupby with axis=1 is deprecated. Do `frame.T.groupby(...)` without axis instead.\n",
      "  data.groupby(level=1, axis=1, observed=True, group_keys=False)\n",
      "/Users/woonjupark/Documents/code/ptm-wm-sz/env/lib/python3.11/site-packages/pingouin/distribution.py:508: FutureWarning: DataFrameGroupBy.diff with axis=1 is deprecated and will be removed in a future version. Operate on the un-grouped DataFrame instead\n",
      "  .diff(axis=1)\n"
     ]
    },
    {
     "data": {
      "text/html": [
       "<div>\n",
       "<style scoped>\n",
       "    .dataframe tbody tr th:only-of-type {\n",
       "        vertical-align: middle;\n",
       "    }\n",
       "\n",
       "    .dataframe tbody tr th {\n",
       "        vertical-align: top;\n",
       "    }\n",
       "\n",
       "    .dataframe thead th {\n",
       "        text-align: right;\n",
       "    }\n",
       "</style>\n",
       "<table border=\"1\" class=\"dataframe\">\n",
       "  <thead>\n",
       "    <tr style=\"text-align: right;\">\n",
       "      <th></th>\n",
       "      <th>Source</th>\n",
       "      <th>SS</th>\n",
       "      <th>ddof1</th>\n",
       "      <th>ddof2</th>\n",
       "      <th>MS</th>\n",
       "      <th>F</th>\n",
       "      <th>p-unc</th>\n",
       "      <th>p-GG-corr</th>\n",
       "      <th>ng2</th>\n",
       "      <th>eps</th>\n",
       "    </tr>\n",
       "  </thead>\n",
       "  <tbody>\n",
       "    <tr>\n",
       "      <th>0</th>\n",
       "      <td>setsize</td>\n",
       "      <td>1.78892</td>\n",
       "      <td>1</td>\n",
       "      <td>19</td>\n",
       "      <td>1.78892</td>\n",
       "      <td>61.52234</td>\n",
       "      <td>0.00000</td>\n",
       "      <td>0.00000</td>\n",
       "      <td>0.24117</td>\n",
       "      <td>1.00000</td>\n",
       "    </tr>\n",
       "    <tr>\n",
       "      <th>1</th>\n",
       "      <td>Loc</td>\n",
       "      <td>0.05605</td>\n",
       "      <td>2</td>\n",
       "      <td>38</td>\n",
       "      <td>0.02803</td>\n",
       "      <td>1.26182</td>\n",
       "      <td>0.29473</td>\n",
       "      <td>0.29447</td>\n",
       "      <td>0.00986</td>\n",
       "      <td>0.98062</td>\n",
       "    </tr>\n",
       "    <tr>\n",
       "      <th>2</th>\n",
       "      <td>setsize * Loc</td>\n",
       "      <td>0.00316</td>\n",
       "      <td>2</td>\n",
       "      <td>38</td>\n",
       "      <td>0.00158</td>\n",
       "      <td>0.17029</td>\n",
       "      <td>0.84406</td>\n",
       "      <td>0.82889</td>\n",
       "      <td>0.00056</td>\n",
       "      <td>0.92915</td>\n",
       "    </tr>\n",
       "  </tbody>\n",
       "</table>\n",
       "</div>"
      ],
      "text/plain": [
       "          Source       SS  ddof1  ddof2       MS         F    p-unc  \\\n",
       "0        setsize  1.78892      1     19  1.78892  61.52234  0.00000   \n",
       "1            Loc  0.05605      2     38  0.02803   1.26182  0.29473   \n",
       "2  setsize * Loc  0.00316      2     38  0.00158   0.17029  0.84406   \n",
       "\n",
       "   p-GG-corr      ng2      eps  \n",
       "0    0.00000  0.24117  1.00000  \n",
       "1    0.29447  0.00986  0.98062  \n",
       "2    0.82889  0.00056  0.92915  "
      ]
     },
     "execution_count": 4,
     "metadata": {},
     "output_type": "execute_result"
    }
   ],
   "source": [
    "# set size vs location repeated measures anova (frontal, parietal, sham)\n",
    "aov = pg.rm_anova(dv='var', within=['setsize','Loc'], subject='SID', data=wm_long)\n",
    "aov.round(5)"
   ]
  },
  {
   "cell_type": "code",
   "execution_count": null,
   "metadata": {},
   "outputs": [],
   "source": []
  }
 ],
 "metadata": {
  "kernelspec": {
   "display_name": "Python 3",
   "language": "python",
   "name": "python3"
  },
  "language_info": {
   "codemirror_mode": {
    "name": "ipython",
    "version": 3
   },
   "file_extension": ".py",
   "mimetype": "text/x-python",
   "name": "python",
   "nbconvert_exporter": "python",
   "pygments_lexer": "ipython3",
   "version": "3.11.8"
  }
 },
 "nbformat": 4,
 "nbformat_minor": 2
}
