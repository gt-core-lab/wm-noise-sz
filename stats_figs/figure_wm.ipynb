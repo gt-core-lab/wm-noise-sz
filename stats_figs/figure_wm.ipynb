{
 "cells": [
  {
   "cell_type": "code",
   "execution_count": 1,
   "metadata": {},
   "outputs": [],
   "source": [
    "import pandas as pd\n",
    "import seaborn as sns\n",
    "import matplotlib.pyplot as plt\n",
    "import matplotlib\n",
    "import pingouin as pg\n",
    "matplotlib.rcParams['pdf.fonttype'] = 42\n",
    "matplotlib.rcParams['ps.fonttype'] = 42\n",
    "matplotlib.rcParams['font.family'] = \"Arial\""
   ]
  },
  {
   "cell_type": "code",
   "execution_count": 2,
   "metadata": {},
   "outputs": [],
   "source": [
    "# load\n",
    "datapath = '../csv/ptm-wm.csv'\n",
    "data = pd.read_csv(datapath)\n",
    "\n",
    "# reorganize\n",
    "df = data[['studyID', 'group', 'k1var', 'k2var', 'k4var']]\n",
    "df = df.rename(columns={'k1var': 'kvar1', 'k2var': 'kvar2', 'k4var': 'kvar4'})\n",
    "\n",
    "# wide to long\n",
    "df = pd.wide_to_long(df, stubnames='kvar', i=['studyID','group'], j='setsize')\n",
    "df.reset_index(inplace=True) "
   ]
  },
  {
   "cell_type": "markdown",
   "metadata": {},
   "source": [
    "# Plot WM"
   ]
  },
  {
   "cell_type": "code",
   "execution_count": 3,
   "metadata": {},
   "outputs": [
    {
     "data": {
      "image/png": "[encoded data removed]",
      "text/plain": [
       "<Figure size 250x250 with 1 Axes>"
      ]
     },
     "metadata": {},
     "output_type": "display_data"
    }
   ],
   "source": [
    "f = plt.figure()\n",
    "f.set_size_inches(2.5,2.5)\n",
    "colors = ['royalblue', 'indianred']\n",
    "\n",
    "sns.pointplot(data=df, x='setsize', y='kvar', hue='group', errorbar=('ci', 68), palette=colors, native_scale=False, err_kws={'linewidth': 1})\n",
    "plt.xlabel('Set Size')\n",
    "plt.ylabel('WM Variance')\n",
    "plt.legend(title='Group')\n",
    "\n",
    "sns.despine()\n",
    "\n",
    "plt.savefig('wm.pdf', dpi=300, transparent=True, bbox_inches=\"tight\")\n"
   ]
  },
  {
   "cell_type": "markdown",
   "metadata": {},
   "source": [
    "# Effect of Set Size on WM variance in CO\n",
    "\n",
    "In the visual WM task, neurotypical adults (NT) exhibited the expected pattern of greater WM variance, with increasing set size (F(2, 58) = 200.42, p < .001)"
   ]
  },
  {
   "cell_type": "code",
   "execution_count": 4,
   "metadata": {},
   "outputs": [
    {
     "data": {
      "text/html": [
       "<div>\n",
       "<style scoped>\n",
       "    .dataframe tbody tr th:only-of-type {\n",
       "        vertical-align: middle;\n",
       "    }\n",
       "\n",
       "    .dataframe tbody tr th {\n",
       "        vertical-align: top;\n",
       "    }\n",
       "\n",
       "    .dataframe thead th {\n",
       "        text-align: right;\n",
       "    }\n",
       "</style>\n",
       "<table border=\"1\" class=\"dataframe\">\n",
       "  <thead>\n",
       "    <tr style=\"text-align: right;\">\n",
       "      <th></th>\n",
       "      <th>Source</th>\n",
       "      <th>ddof1</th>\n",
       "      <th>ddof2</th>\n",
       "      <th>F</th>\n",
       "      <th>p-unc</th>\n",
       "      <th>ng2</th>\n",
       "      <th>eps</th>\n",
       "    </tr>\n",
       "  </thead>\n",
       "  <tbody>\n",
       "    <tr>\n",
       "      <th>0</th>\n",
       "      <td>setsize</td>\n",
       "      <td>2</td>\n",
       "      <td>58</td>\n",
       "      <td>200.422682</td>\n",
       "      <td>8.934860e-27</td>\n",
       "      <td>0.50753</td>\n",
       "      <td>0.840088</td>\n",
       "    </tr>\n",
       "  </tbody>\n",
       "</table>\n",
       "</div>"
      ],
      "text/plain": [
       "    Source  ddof1  ddof2           F         p-unc      ng2       eps\n",
       "0  setsize      2     58  200.422682  8.934860e-27  0.50753  0.840088"
      ]
     },
     "execution_count": 4,
     "metadata": {},
     "output_type": "execute_result"
    }
   ],
   "source": [
    "# select CO data\n",
    "df_CO = df[df['group']=='CO']\n",
    "\n",
    "# repeated measures ANOVA\n",
    "aov_CO = pg.rm_anova(data=df_CO, dv='kvar', within='setsize', subject='studyID')\n",
    "aov_CO"
   ]
  },
  {
   "cell_type": "markdown",
   "metadata": {},
   "source": [
    "# Group x Set Size on WM variance\n",
    "\n",
    "The SZ group exhibited higher WM recall variance across all set sizes relative to NT (F(1,55) = 18.04, p < .001). \n",
    "There was also a significant group by set size interaction, F(2,110) = 5.05, p = .008, with patients showing greater deficits at larger set sizes. \n"
   ]
  },
  {
   "cell_type": "code",
   "execution_count": 5,
   "metadata": {},
   "outputs": [
    {
     "data": {
      "text/html": [
       "<div>\n",
       "<style scoped>\n",
       "    .dataframe tbody tr th:only-of-type {\n",
       "        vertical-align: middle;\n",
       "    }\n",
       "\n",
       "    .dataframe tbody tr th {\n",
       "        vertical-align: top;\n",
       "    }\n",
       "\n",
       "    .dataframe thead th {\n",
       "        text-align: right;\n",
       "    }\n",
       "</style>\n",
       "<table border=\"1\" class=\"dataframe\">\n",
       "  <thead>\n",
       "    <tr style=\"text-align: right;\">\n",
       "      <th></th>\n",
       "      <th>Source</th>\n",
       "      <th>SS</th>\n",
       "      <th>DF1</th>\n",
       "      <th>DF2</th>\n",
       "      <th>MS</th>\n",
       "      <th>F</th>\n",
       "      <th>p-unc</th>\n",
       "      <th>p-GG-corr</th>\n",
       "      <th>np2</th>\n",
       "      <th>eps</th>\n",
       "      <th>sphericity</th>\n",
       "      <th>W-spher</th>\n",
       "      <th>p-spher</th>\n",
       "    </tr>\n",
       "  </thead>\n",
       "  <tbody>\n",
       "    <tr>\n",
       "      <th>0</th>\n",
       "      <td>group</td>\n",
       "      <td>1.12833</td>\n",
       "      <td>1</td>\n",
       "      <td>55</td>\n",
       "      <td>1.12833</td>\n",
       "      <td>18.04202</td>\n",
       "      <td>0.00008</td>\n",
       "      <td>NaN</td>\n",
       "      <td>0.24701</td>\n",
       "      <td>NaN</td>\n",
       "      <td>NaN</td>\n",
       "      <td>NaN</td>\n",
       "      <td>NaN</td>\n",
       "    </tr>\n",
       "    <tr>\n",
       "      <th>1</th>\n",
       "      <td>setsize</td>\n",
       "      <td>3.53399</td>\n",
       "      <td>2</td>\n",
       "      <td>110</td>\n",
       "      <td>1.76700</td>\n",
       "      <td>249.30793</td>\n",
       "      <td>0.00000</td>\n",
       "      <td>0.0</td>\n",
       "      <td>0.81926</td>\n",
       "      <td>0.64214</td>\n",
       "      <td>False</td>\n",
       "      <td>0.44272</td>\n",
       "      <td>0.0</td>\n",
       "    </tr>\n",
       "    <tr>\n",
       "      <th>2</th>\n",
       "      <td>Interaction</td>\n",
       "      <td>0.07151</td>\n",
       "      <td>2</td>\n",
       "      <td>110</td>\n",
       "      <td>0.03575</td>\n",
       "      <td>5.04457</td>\n",
       "      <td>0.00801</td>\n",
       "      <td>NaN</td>\n",
       "      <td>0.08401</td>\n",
       "      <td>NaN</td>\n",
       "      <td>NaN</td>\n",
       "      <td>NaN</td>\n",
       "      <td>NaN</td>\n",
       "    </tr>\n",
       "  </tbody>\n",
       "</table>\n",
       "</div>"
      ],
      "text/plain": [
       "        Source       SS  DF1  DF2       MS          F    p-unc  p-GG-corr  \\\n",
       "0        group  1.12833    1   55  1.12833   18.04202  0.00008        NaN   \n",
       "1      setsize  3.53399    2  110  1.76700  249.30793  0.00000        0.0   \n",
       "2  Interaction  0.07151    2  110  0.03575    5.04457  0.00801        NaN   \n",
       "\n",
       "       np2      eps sphericity  W-spher  p-spher  \n",
       "0  0.24701      NaN        NaN      NaN      NaN  \n",
       "1  0.81926  0.64214      False  0.44272      0.0  \n",
       "2  0.08401      NaN        NaN      NaN      NaN  "
      ]
     },
     "execution_count": 5,
     "metadata": {},
     "output_type": "execute_result"
    }
   ],
   "source": [
    "aov = pg.mixed_anova(data=df, dv='kvar', between='group', within='setsize', subject='studyID')\n",
    "aov.round(5)"
   ]
  },
  {
   "cell_type": "code",
   "execution_count": null,
   "metadata": {},
   "outputs": [],
   "source": []
  }
 ],
 "metadata": {
  "kernelspec": {
   "display_name": "Python 3",
   "language": "python",
   "name": "python3"
  },
  "language_info": {
   "codemirror_mode": {
    "name": "ipython",
    "version": 3
   },
   "file_extension": ".py",
   "mimetype": "text/x-python",
   "name": "python",
   "nbconvert_exporter": "python",
   "pygments_lexer": "ipython3",
   "version": "3.11.8"
  }
 },
 "nbformat": 4,
 "nbformat_minor": 2
}
